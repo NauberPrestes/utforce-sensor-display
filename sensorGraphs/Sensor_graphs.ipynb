{
 "cells": [
  {
   "metadata": {},
   "cell_type": "markdown",
   "source": "<b><h3>Python Packages:</b>",
   "id": "cbadec468748bb4e"
  },
  {
   "cell_type": "code",
   "id": "initial_id",
   "metadata": {
    "collapsed": true
   },
   "source": [
    "%matplotlib notebook\n",
    "\n",
    "import mysql.connector\n",
    "print(mysql.connector.__version__)\n",
    "\n",
    "import sqlalchemy\n",
    "\n",
    "import matplotlib\n",
    "import matplotlib.pyplot as plt\n",
    "from matplotlib .animation import FuncAnimation\n",
    "print(matplotlib.__version__)\n",
    "\n",
    "import numpy as np\n",
    "\n",
    "import pandas as pd\n",
    "pd.DataFrame({'A': [1, 2, 3]})\n",
    "print(pd.__version__)"
   ],
   "outputs": [],
   "execution_count": null
  },
  {
   "metadata": {},
   "cell_type": "markdown",
   "source": "<b>Start MySQL database connection</b>",
   "id": "83d850a2dc978a77"
  },
  {
   "metadata": {},
   "cell_type": "code",
   "source": [
    "mydb = mysql.connector.connect(\n",
    "  host=\"localhost\",\n",
    "  user=\"nauber\",\n",
    "  password=\"135086Elgom.,\",\n",
    "  database= \"sensor\"\n",
    ")\n",
    "\n",
    "mycursor = mydb.cursor()\n",
    "\n",
    "mycursor.execute(\"SHOW TABLES\")\n",
    "\n",
    "for x in mycursor:\n",
    "  print(x)"
   ],
   "id": "502565e874496911",
   "outputs": [],
   "execution_count": null
  },
  {
   "metadata": {},
   "cell_type": "markdown",
   "source": "<b><h3>DHT Sensor<b>",
   "id": "7aec9fcab6040c75"
  },
  {
   "metadata": {},
   "cell_type": "code",
   "outputs": [],
   "execution_count": null,
   "source": [
    "sql=\"select temperature from dht_sensor\"\n",
    "mycursor.execute(sql)\n",
    "temperature = mycursor.fetchall()\n",
    "\n",
    "sql=\"select id from dht_sensor\"\n",
    "mycursor.execute(sql)\n",
    "time = mycursor.fetchall()\n",
    "\n",
    "plt.plot(time, temperature)"
   ],
   "id": "9e793ac8b5f817d8"
  },
  {
   "metadata": {},
   "cell_type": "markdown",
   "source": "Real time",
   "id": "dbed0d40f96fab01"
  },
  {
   "metadata": {},
   "cell_type": "code",
   "source": [
    "sql=\"select temperature from dht_sensor\"\n",
    "mycursor.execute(sql)\n",
    "temperature = mycursor.fetchall()\n",
    "\n",
    "sql=\"select id from dht_sensor\"\n",
    "mycursor.execute(sql)\n",
    "time = mycursor.fetchall()\n",
    "\n",
    "fig, ax = plt.subplots()\n",
    "ln = ax.plot(time, temperature)\n",
    "\n",
    "def artists():\n",
    "  return ln\n",
    "\n",
    "def update(frame):\n",
    "  sql =\"SELECT id FROM dht_sensor ORDER BY id DESC LIMIT 1\";\n",
    "  mycursor.execute(sql)\n",
    "  time_fetch = mycursor.fetchall()\n",
    "  time_add = time_fetch[0][0]\n",
    "  time.append(time_add)\n",
    "  \n",
    "  sql =\"SELECT temperature FROM dht_sensor ORDER BY id DESC LIMIT 1\";\n",
    "  mycursor.execute(sql)\n",
    "  temperature_fetch = mycursor.fetchall()\n",
    "  temperature_add = temperature_fetch[0][0]\n",
    "  temperature.append(temperature_add)\n",
    "\n",
    "  ln.setdata(time, temperature)\n",
    "  \n",
    "  plt.plot(time,temperature)\n",
    "  \n",
    "ani = FuncAnimation(fig, update, interval = 3000, init_func = artists(), frames=1000)\n",
    "\n",
    "plt.show()"
   ],
   "id": "70774e40a65b67f",
   "outputs": [],
   "execution_count": null
  },
  {
   "metadata": {},
   "cell_type": "markdown",
   "source": "Receiving query simulation",
   "id": "856d7e325a9946b4"
  },
  {
   "metadata": {},
   "cell_type": "code",
   "outputs": [],
   "execution_count": 37,
   "source": [
    "sql = \"INSERT INTO dht_sensor (temperature, humidity) VALUES (200, 30)\"\n",
    "mycursor.execute(sql)\n",
    "\n",
    "mydb.commit()"
   ],
   "id": "2d69b37f3c6a54e2"
  },
  {
   "metadata": {},
   "cell_type": "markdown",
   "source": "<b>Query test",
   "id": "252fd5048a62ccea"
  },
  {
   "metadata": {
    "ExecuteTime": {
     "end_time": "2024-06-08T05:15:08.611942Z",
     "start_time": "2024-06-08T05:15:08.597179Z"
    }
   },
   "cell_type": "code",
   "source": [
    "sql=\"SELECT temperature FROM dht_sensor ORDER BY id DESC LIMIT 1\"\n",
    "mycursor.execute(sql)\n",
    "temperature = mycursor.fetchall()\n",
    "\n",
    "print(temperature[0][0])"
   ],
   "id": "32977b247a7ca1a1",
   "outputs": [
    {
     "name": "stdout",
     "output_type": "stream",
     "text": [
      "30\n"
     ]
    }
   ],
   "execution_count": 35
  },
  {
   "metadata": {},
   "cell_type": "markdown",
   "source": "<b>Close cursor and connection</b>",
   "id": "91b6a0080364002c"
  },
  {
   "metadata": {},
   "cell_type": "code",
   "outputs": [],
   "execution_count": null,
   "source": [
    "mycursor.close()\n",
    "mydb.close()"
   ],
   "id": "b7cab2881584a3c5"
  }
 ],
 "metadata": {
  "kernelspec": {
   "display_name": "Python 3",
   "language": "python",
   "name": "python3"
  },
  "language_info": {
   "codemirror_mode": {
    "name": "ipython",
    "version": 2
   },
   "file_extension": ".py",
   "mimetype": "text/x-python",
   "name": "python",
   "nbconvert_exporter": "python",
   "pygments_lexer": "ipython2",
   "version": "2.7.6"
  }
 },
 "nbformat": 4,
 "nbformat_minor": 5
}
